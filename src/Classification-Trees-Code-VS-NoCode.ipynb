{
 "cells": [
  {
   "cell_type": "code",
   "execution_count": 2,
   "id": "26da896a-a3d2-4baf-955f-036fd8aad7da",
   "metadata": {},
   "outputs": [
    {
     "name": "stderr",
     "output_type": "stream",
     "text": [
      "[nltk_data] Downloading package punkt to\n",
      "[nltk_data]     /Users/nikitadanilov/nltk_data...\n",
      "[nltk_data]   Package punkt is already up-to-date!\n"
     ]
    },
    {
     "data": {
      "text/plain": [
       "True"
      ]
     },
     "execution_count": 2,
     "metadata": {},
     "output_type": "execute_result"
    }
   ],
   "source": [
    "from sklearn.linear_model import LogisticRegression\n",
    "from sklearn.svm import SVC\n",
    "from sklearn.naive_bayes import GaussianNB\n",
    "from sklearn.naive_bayes import MultinomialNB\n",
    "from sklearn.linear_model import SGDClassifier\n",
    "from sklearn.neighbors import KNeighborsClassifier\n",
    "from sklearn.tree import DecisionTreeClassifier\n",
    "from sklearn.ensemble import RandomForestClassifier\n",
    "from sklearn.ensemble import HistGradientBoostingClassifier\n",
    "\n",
    "from sklearn.metrics import accuracy_score\n",
    "from sklearn.metrics import precision_score\n",
    "from sklearn.metrics import recall_score\n",
    "from sklearn.metrics import classification_report\n",
    "from sklearn.model_selection import cross_val_score, train_test_split\n",
    "from sklearn.pipeline import Pipeline\n",
    "from sklearn.pipeline import make_pipeline\n",
    "from sklearn.feature_extraction.text import TfidfTransformer, TfidfVectorizer, CountVectorizer\n",
    "from sklearn.model_selection import GridSearchCV\n",
    "from collections import Counter\n",
    "from sklearn.metrics import make_scorer, roc_auc_score\n",
    "from catboost import CatBoostClassifier, Pool\n",
    "from catboost.text_processing import Tokenizer, Dictionary\n",
    "from copy import deepcopy\n",
    "from nltk.tokenize import MWETokenizer\n",
    "import sqlite3\n",
    "import sys\n",
    "import ctypes\n",
    "import gc\n",
    "import joblib\n",
    "import numpy as np\n",
    "import pandas as pd\n",
    "import catboost\n",
    "import heapq\n",
    "import pickle\n",
    "import warnings\n",
    "import random\n",
    "import nltk\n",
    "import seaborn as sns\n",
    "import matplotlib.pyplot as plt\n",
    "from IPython.display import display\n",
    "\n",
    "# pd.options.display.max_columns = None\n",
    "pd.set_option('display.max_rows', 500)\n",
    "params = {'axes.labelsize': 16, 'axes.titlesize': 16}\n",
    "plt.rcParams.update(params)\n",
    "warnings.filterwarnings('ignore')\n",
    "random.seed(37)\n",
    "\n",
    "nltk.download('punkt')"
   ]
  },
  {
   "cell_type": "markdown",
   "id": "d70da0ee-a501-40a5-9ad1-dbdba04f2f8a",
   "metadata": {},
   "source": [
    "### Load dataset"
   ]
  },
  {
   "cell_type": "code",
   "execution_count": 3,
   "id": "c023ce87-b0d0-4959-aeb1-94fe384435c1",
   "metadata": {
    "scrolled": true
   },
   "outputs": [],
   "source": [
    "df = pd.read_csv('../train/codevsotherv1.csv')"
   ]
  },
  {
   "cell_type": "code",
   "execution_count": 4,
   "id": "feba22a5-e920-4af2-98ac-5fb33035fe01",
   "metadata": {},
   "outputs": [],
   "source": [
    "df['language'] = df['language'].where(df['language'] == 'OTHER', 'CODE')"
   ]
  },
  {
   "cell_type": "code",
   "execution_count": 5,
   "id": "46c00bf8-1d95-44ae-9838-f126684769d5",
   "metadata": {},
   "outputs": [],
   "source": [
    "df['group'] = df['snippet'].apply(\n",
    "    lambda x: 'train' \n",
    "    if random.random() < 0.8  \n",
    "    else 'test'\n",
    ")"
   ]
  },
  {
   "cell_type": "code",
   "execution_count": 6,
   "id": "5191d386-b834-41dc-89ef-d36a9129c8e1",
   "metadata": {
    "scrolled": true
   },
   "outputs": [
    {
     "data": {
      "text/html": [
       "<div>\n",
       "<style scoped>\n",
       "    .dataframe tbody tr th:only-of-type {\n",
       "        vertical-align: middle;\n",
       "    }\n",
       "\n",
       "    .dataframe tbody tr th {\n",
       "        vertical-align: top;\n",
       "    }\n",
       "\n",
       "    .dataframe thead th {\n",
       "        text-align: right;\n",
       "    }\n",
       "</style>\n",
       "<table border=\"1\" class=\"dataframe\">\n",
       "  <thead>\n",
       "    <tr style=\"text-align: right;\">\n",
       "      <th></th>\n",
       "      <th>language</th>\n",
       "      <th>snippet</th>\n",
       "      <th>group</th>\n",
       "    </tr>\n",
       "  </thead>\n",
       "  <tbody>\n",
       "    <tr>\n",
       "      <th>0</th>\n",
       "      <td>OTHER</td>\n",
       "      <td>1010386</td>\n",
       "      <td>1010386</td>\n",
       "    </tr>\n",
       "    <tr>\n",
       "      <th>1</th>\n",
       "      <td>CODE</td>\n",
       "      <td>844006</td>\n",
       "      <td>844006</td>\n",
       "    </tr>\n",
       "  </tbody>\n",
       "</table>\n",
       "</div>"
      ],
      "text/plain": [
       "  language  snippet    group\n",
       "0    OTHER  1010386  1010386\n",
       "1     CODE   844006   844006"
      ]
     },
     "execution_count": 6,
     "metadata": {},
     "output_type": "execute_result"
    }
   ],
   "source": [
    "df.groupby('language').count().sort_values(by='snippet', ascending=False).reset_index()"
   ]
  },
  {
   "cell_type": "markdown",
   "id": "22f9b6f7-9a87-4a01-9e7f-58878234260f",
   "metadata": {},
   "source": [
    "### Check split by train/test and by language"
   ]
  },
  {
   "cell_type": "code",
   "execution_count": 7,
   "id": "173c15ac-c9ca-4495-8410-5ee86ecda8b5",
   "metadata": {},
   "outputs": [],
   "source": [
    "def sample_group(group, num):\n",
    "    return group.sample(min(len(group), num))\n",
    "\n",
    "NUM = 1854392\n",
    "# Apply the function to each group\n",
    "train = df[df.group == 'train'].groupby('language', group_keys=False).apply(lambda x: sample_group(x, num=NUM*0.8)).reset_index(drop=True)\n",
    "test = df[df.group == 'test'].groupby('language', group_keys=False).apply(lambda x: sample_group(x, num=NUM*0.2)).reset_index(drop=True)\n",
    "# Display the sampled DataFrame"
   ]
  },
  {
   "cell_type": "code",
   "execution_count": 8,
   "id": "28e8cc7b-94d7-47ec-a1af-d8b4d1db1a01",
   "metadata": {},
   "outputs": [
    {
     "data": {
      "text/html": [
       "<div>\n",
       "<style scoped>\n",
       "    .dataframe tbody tr th:only-of-type {\n",
       "        vertical-align: middle;\n",
       "    }\n",
       "\n",
       "    .dataframe tbody tr th {\n",
       "        vertical-align: top;\n",
       "    }\n",
       "\n",
       "    .dataframe thead th {\n",
       "        text-align: right;\n",
       "    }\n",
       "</style>\n",
       "<table border=\"1\" class=\"dataframe\">\n",
       "  <thead>\n",
       "    <tr style=\"text-align: right;\">\n",
       "      <th></th>\n",
       "      <th>snippet</th>\n",
       "      <th>language</th>\n",
       "      <th>group</th>\n",
       "    </tr>\n",
       "  </thead>\n",
       "  <tbody>\n",
       "    <tr>\n",
       "      <th>0</th>\n",
       "      <td>&lt;?php\\n\\n/*\\n * This file is part of the Symfo...</td>\n",
       "      <td>CODE</td>\n",
       "      <td>train</td>\n",
       "    </tr>\n",
       "    <tr>\n",
       "      <th>1</th>\n",
       "      <td>FROM golang:alpine as builder\\n\\nLABEL maintai...</td>\n",
       "      <td>CODE</td>\n",
       "      <td>train</td>\n",
       "    </tr>\n",
       "    <tr>\n",
       "      <th>2</th>\n",
       "      <td>\"type\": \"ob</td>\n",
       "      <td>CODE</td>\n",
       "      <td>train</td>\n",
       "    </tr>\n",
       "    <tr>\n",
       "      <th>3</th>\n",
       "      <td>library ng_dart_ombdbapi;\\n\\n@MirrorsUsed(targ...</td>\n",
       "      <td>CODE</td>\n",
       "      <td>train</td>\n",
       "    </tr>\n",
       "    <tr>\n",
       "      <th>4</th>\n",
       "      <td>{ name: 'tofront', paramete</td>\n",
       "      <td>CODE</td>\n",
       "      <td>train</td>\n",
       "    </tr>\n",
       "    <tr>\n",
       "      <th>...</th>\n",
       "      <td>...</td>\n",
       "      <td>...</td>\n",
       "      <td>...</td>\n",
       "    </tr>\n",
       "    <tr>\n",
       "      <th>1483659</th>\n",
       "      <td>विम्बल्डन :- सेरेनाला हरवून अँजेलिक विजेती</td>\n",
       "      <td>OTHER</td>\n",
       "      <td>train</td>\n",
       "    </tr>\n",
       "    <tr>\n",
       "      <th>1483660</th>\n",
       "      <td>Партия «РОДИНА»: Мы патриоты и защищаем русски...</td>\n",
       "      <td>OTHER</td>\n",
       "      <td>train</td>\n",
       "    </tr>\n",
       "    <tr>\n",
       "      <th>1483661</th>\n",
       "      <td>**ایسنا**\\n[شبکه نمایش این هفته چه فیلم‌هایی پ...</td>\n",
       "      <td>OTHER</td>\n",
       "      <td>train</td>\n",
       "    </tr>\n",
       "    <tr>\n",
       "      <th>1483662</th>\n",
       "      <td>زمین خوردن\\n     مهم نیست\\nمراقب باش\\n     کسی...</td>\n",
       "      <td>OTHER</td>\n",
       "      <td>train</td>\n",
       "    </tr>\n",
       "    <tr>\n",
       "      <th>1483663</th>\n",
       "      <td>🗞 📣  #NewsBurstITA\\n🇮🇹 26 Maggio 2020\\n🍬 **Liv...</td>\n",
       "      <td>OTHER</td>\n",
       "      <td>train</td>\n",
       "    </tr>\n",
       "  </tbody>\n",
       "</table>\n",
       "<p>1483664 rows × 3 columns</p>\n",
       "</div>"
      ],
      "text/plain": [
       "                                                   snippet language  group\n",
       "0        <?php\\n\\n/*\\n * This file is part of the Symfo...     CODE  train\n",
       "1        FROM golang:alpine as builder\\n\\nLABEL maintai...     CODE  train\n",
       "2                                              \"type\": \"ob     CODE  train\n",
       "3        library ng_dart_ombdbapi;\\n\\n@MirrorsUsed(targ...     CODE  train\n",
       "4                              { name: 'tofront', paramete     CODE  train\n",
       "...                                                    ...      ...    ...\n",
       "1483659         विम्बल्डन :- सेरेनाला हरवून अँजेलिक विजेती    OTHER  train\n",
       "1483660  Партия «РОДИНА»: Мы патриоты и защищаем русски...    OTHER  train\n",
       "1483661  **ایسنا**\\n[شبکه نمایش این هفته چه فیلم‌هایی پ...    OTHER  train\n",
       "1483662  زمین خوردن\\n     مهم نیست\\nمراقب باش\\n     کسی...    OTHER  train\n",
       "1483663  🗞 📣  #NewsBurstITA\\n🇮🇹 26 Maggio 2020\\n🍬 **Liv...    OTHER  train\n",
       "\n",
       "[1483664 rows x 3 columns]"
      ]
     },
     "execution_count": 8,
     "metadata": {},
     "output_type": "execute_result"
    }
   ],
   "source": [
    "train"
   ]
  },
  {
   "cell_type": "code",
   "execution_count": 9,
   "id": "f85a7423-85de-4e50-8a0d-77fa970010b3",
   "metadata": {},
   "outputs": [
    {
     "data": {
      "text/html": [
       "<div>\n",
       "<style scoped>\n",
       "    .dataframe tbody tr th:only-of-type {\n",
       "        vertical-align: middle;\n",
       "    }\n",
       "\n",
       "    .dataframe tbody tr th {\n",
       "        vertical-align: top;\n",
       "    }\n",
       "\n",
       "    .dataframe thead th {\n",
       "        text-align: right;\n",
       "    }\n",
       "</style>\n",
       "<table border=\"1\" class=\"dataframe\">\n",
       "  <thead>\n",
       "    <tr style=\"text-align: right;\">\n",
       "      <th></th>\n",
       "      <th>index</th>\n",
       "      <th>num</th>\n",
       "      <th>train_share</th>\n",
       "      <th>language</th>\n",
       "    </tr>\n",
       "  </thead>\n",
       "  <tbody>\n",
       "    <tr>\n",
       "      <th>0</th>\n",
       "      <td>1</td>\n",
       "      <td>1010386</td>\n",
       "      <td>0.799695</td>\n",
       "      <td>OTHER</td>\n",
       "    </tr>\n",
       "    <tr>\n",
       "      <th>1</th>\n",
       "      <td>0</td>\n",
       "      <td>844006</td>\n",
       "      <td>0.800543</td>\n",
       "      <td>CODE</td>\n",
       "    </tr>\n",
       "  </tbody>\n",
       "</table>\n",
       "</div>"
      ],
      "text/plain": [
       "   index      num  train_share language\n",
       "0      1  1010386     0.799695    OTHER\n",
       "1      0   844006     0.800543     CODE"
      ]
     },
     "execution_count": 9,
     "metadata": {},
     "output_type": "execute_result"
    }
   ],
   "source": [
    "meta = []\n",
    "for language in df.language.unique():\n",
    "    len_train = len(train[train.language == language])\n",
    "    len_test = len(test[test.language == language])\n",
    "    meta.append((len_train + len_test, len_train / (len_train + len_test), language))\n",
    "df_meta = pd.DataFrame(meta, columns=['num', 'train_share', 'language'])\n",
    "df_meta.sort_values('num', ascending=False).reset_index()"
   ]
  },
  {
   "cell_type": "code",
   "execution_count": 282,
   "id": "58b27226-b7d8-44a4-9da7-5607dc731830",
   "metadata": {},
   "outputs": [
    {
     "data": {
      "text/plain": [
       "Text(0.5, 1.0, 'Distribution of Text Lengths')"
      ]
     },
     "execution_count": 282,
     "metadata": {},
     "output_type": "execute_result"
    },
    {
     "data": {
      "image/png": "[encoded data removed]",
      "text/plain": [
       "<Figure size 640x480 with 1 Axes>"
      ]
     },
     "metadata": {},
     "output_type": "display_data"
    }
   ],
   "source": [
    "sns.histplot(df[df.language == 'OTHER']['snippet'].apply(len), kde=True, bins=500)  # You can adjust the number of bins as needed\n",
    "\n",
    "# Set plot labels and title\n",
    "plt.xlabel('Text Length')\n",
    "plt.ylabel('Frequency')\n",
    "plt.xlim(0, 1000)\n",
    "plt.title('Distribution of Text Lengths')"
   ]
  },
  {
   "cell_type": "markdown",
   "id": "2b6286de-426a-4250-9794-358700831369",
   "metadata": {},
   "source": [
    "### Grid search by parameters. Catboost classifier with tokenizer"
   ]
  },
  {
   "cell_type": "code",
   "execution_count": 297,
   "id": "69119dd0-93e6-4a2d-9e55-b7598ef69b6b",
   "metadata": {
    "scrolled": true
   },
   "outputs": [
    {
     "name": "stdout",
     "output_type": "stream",
     "text": [
      "11 15000\n"
     ]
    },
    {
     "data": {
      "application/vnd.jupyter.widget-view+json": {
       "model_id": "06c59cd210ce44bc8f640fa27c436426",
       "version_major": 2,
       "version_minor": 0
      },
      "text/plain": [
       "MetricVisualizer(layout=Layout(align_self='stretch', height='500px'))"
      ]
     },
     "metadata": {},
     "output_type": "display_data"
    },
    {
     "name": "stdout",
     "output_type": "stream",
     "text": [
      "Learning rate set to 0.5\n",
      "0:\tlearn: 0.9556261\ttest: 0.9552296\tbest: 0.9552296 (0)\ttotal: 930ms\tremaining: 1m 32s\n",
      "1:\tlearn: 0.9609805\ttest: 0.9606838\tbest: 0.9606838 (1)\ttotal: 1.83s\tremaining: 1m 29s\n",
      "2:\tlearn: 0.9616313\ttest: 0.9613615\tbest: 0.9613615 (2)\ttotal: 2.74s\tremaining: 1m 28s\n",
      "3:\tlearn: 0.9635331\ttest: 0.9632384\tbest: 0.9632384 (3)\ttotal: 3.79s\tremaining: 1m 30s\n",
      "4:\tlearn: 0.9660892\ttest: 0.9657996\tbest: 0.9657996 (4)\ttotal: 4.73s\tremaining: 1m 29s\n",
      "5:\tlearn: 0.9689247\ttest: 0.9687556\tbest: 0.9687556 (5)\ttotal: 5.77s\tremaining: 1m 30s\n",
      "6:\tlearn: 0.9701424\ttest: 0.9699146\tbest: 0.9699146 (6)\ttotal: 6.7s\tremaining: 1m 28s\n",
      "7:\tlearn: 0.9712716\ttest: 0.9709794\tbest: 0.9709794 (7)\ttotal: 7.61s\tremaining: 1m 27s\n",
      "8:\tlearn: 0.9736471\ttest: 0.9734022\tbest: 0.9734022 (8)\ttotal: 8.64s\tremaining: 1m 27s\n",
      "9:\tlearn: 0.9753956\ttest: 0.9751880\tbest: 0.9751880 (9)\ttotal: 9.58s\tremaining: 1m 26s\n",
      "10:\tlearn: 0.9761956\ttest: 0.9760721\tbest: 0.9760721 (10)\ttotal: 10.5s\tremaining: 1m 25s\n",
      "11:\tlearn: 0.9779362\ttest: 0.9778811\tbest: 0.9778811 (11)\ttotal: 11.4s\tremaining: 1m 23s\n",
      "12:\tlearn: 0.9785197\ttest: 0.9784460\tbest: 0.9784460 (12)\ttotal: 12.3s\tremaining: 1m 22s\n",
      "13:\tlearn: 0.9792882\ttest: 0.9792113\tbest: 0.9792113 (13)\ttotal: 13.3s\tremaining: 1m 21s\n",
      "14:\tlearn: 0.9797755\ttest: 0.9797818\tbest: 0.9797818 (14)\ttotal: 14.2s\tremaining: 1m 20s\n",
      "15:\tlearn: 0.9800365\ttest: 0.9800088\tbest: 0.9800088 (15)\ttotal: 15.1s\tremaining: 1m 19s\n",
      "16:\tlearn: 0.9805134\ttest: 0.9805007\tbest: 0.9805007 (16)\ttotal: 16s\tremaining: 1m 18s\n",
      "17:\tlearn: 0.9810441\ttest: 0.9810359\tbest: 0.9810359 (17)\ttotal: 16.9s\tremaining: 1m 17s\n",
      "18:\tlearn: 0.9816210\ttest: 0.9815893\tbest: 0.9815893 (18)\ttotal: 17.8s\tremaining: 1m 16s\n",
      "19:\tlearn: 0.9821166\ttest: 0.9820585\tbest: 0.9820585 (19)\ttotal: 18.8s\tremaining: 1m 15s\n",
      "20:\tlearn: 0.9825722\ttest: 0.9825262\tbest: 0.9825262 (20)\ttotal: 19.7s\tremaining: 1m 14s\n",
      "21:\tlearn: 0.9828827\ttest: 0.9828132\tbest: 0.9828132 (21)\ttotal: 20.7s\tremaining: 1m 13s\n",
      "22:\tlearn: 0.9829939\ttest: 0.9829774\tbest: 0.9829774 (22)\ttotal: 21.6s\tremaining: 1m 12s\n",
      "23:\tlearn: 0.9834438\ttest: 0.9833731\tbest: 0.9833731 (23)\ttotal: 22.5s\tremaining: 1m 11s\n",
      "24:\tlearn: 0.9837116\ttest: 0.9836067\tbest: 0.9836067 (24)\ttotal: 23.5s\tremaining: 1m 10s\n",
      "25:\tlearn: 0.9839992\ttest: 0.9839083\tbest: 0.9839083 (25)\ttotal: 24.4s\tremaining: 1m 9s\n",
      "26:\tlearn: 0.9843792\ttest: 0.9843614\tbest: 0.9843614 (26)\ttotal: 25.4s\tremaining: 1m 8s\n",
      "27:\tlearn: 0.9845056\ttest: 0.9845039\tbest: 0.9845039 (27)\ttotal: 26.3s\tremaining: 1m 7s\n",
      "28:\tlearn: 0.9845684\ttest: 0.9845784\tbest: 0.9845784 (28)\ttotal: 27.3s\tremaining: 1m 6s\n",
      "29:\tlearn: 0.9846340\ttest: 0.9846524\tbest: 0.9846524 (29)\ttotal: 28.1s\tremaining: 1m 5s\n",
      "30:\tlearn: 0.9847079\ttest: 0.9846882\tbest: 0.9846882 (30)\ttotal: 29s\tremaining: 1m 4s\n",
      "31:\tlearn: 0.9849647\ttest: 0.9849958\tbest: 0.9849958 (31)\ttotal: 30s\tremaining: 1m 3s\n",
      "32:\tlearn: 0.9851984\ttest: 0.9852390\tbest: 0.9852390 (32)\ttotal: 30.8s\tremaining: 1m 2s\n",
      "33:\tlearn: 0.9853977\ttest: 0.9854328\tbest: 0.9854328 (33)\ttotal: 31.8s\tremaining: 1m 1s\n",
      "34:\tlearn: 0.9855602\ttest: 0.9856085\tbest: 0.9856085 (34)\ttotal: 32.7s\tremaining: 1m\n",
      "35:\tlearn: 0.9856699\ttest: 0.9857067\tbest: 0.9857067 (35)\ttotal: 33.6s\tremaining: 59.8s\n",
      "36:\tlearn: 0.9858155\ttest: 0.9858165\tbest: 0.9858165 (36)\ttotal: 34.6s\tremaining: 58.9s\n",
      "37:\tlearn: 0.9860119\ttest: 0.9859957\tbest: 0.9859957 (37)\ttotal: 35.5s\tremaining: 57.9s\n",
      "38:\tlearn: 0.9861579\ttest: 0.9861060\tbest: 0.9861060 (38)\ttotal: 36.4s\tremaining: 56.9s\n",
      "39:\tlearn: 0.9863669\ttest: 0.9863069\tbest: 0.9863069 (39)\ttotal: 37.3s\tremaining: 55.9s\n",
      "40:\tlearn: 0.9864703\ttest: 0.9864287\tbest: 0.9864287 (40)\ttotal: 38.2s\tremaining: 55s\n",
      "41:\tlearn: 0.9866076\ttest: 0.9865042\tbest: 0.9865042 (41)\ttotal: 39.1s\tremaining: 54s\n",
      "42:\tlearn: 0.9866816\ttest: 0.9865923\tbest: 0.9865923 (42)\ttotal: 40.1s\tremaining: 53.1s\n",
      "43:\tlearn: 0.9868110\ttest: 0.9866961\tbest: 0.9866961 (43)\ttotal: 41s\tremaining: 52.2s\n",
      "44:\tlearn: 0.9869020\ttest: 0.9867962\tbest: 0.9867962 (44)\ttotal: 41.9s\tremaining: 51.2s\n",
      "45:\tlearn: 0.9870175\ttest: 0.9869347\tbest: 0.9869347 (45)\ttotal: 42.8s\tremaining: 50.2s\n",
      "46:\tlearn: 0.9870905\ttest: 0.9869805\tbest: 0.9869805 (46)\ttotal: 43.7s\tremaining: 49.3s\n",
      "47:\tlearn: 0.9871895\ttest: 0.9870807\tbest: 0.9870807 (47)\ttotal: 44.6s\tremaining: 48.3s\n",
      "48:\tlearn: 0.9872270\ttest: 0.9871270\tbest: 0.9871270 (48)\ttotal: 45.5s\tremaining: 47.4s\n",
      "49:\tlearn: 0.9873008\ttest: 0.9872247\tbest: 0.9872247 (49)\ttotal: 46.5s\tremaining: 46.5s\n",
      "50:\tlearn: 0.9874729\ttest: 0.9873803\tbest: 0.9873803 (50)\ttotal: 47.4s\tremaining: 45.6s\n",
      "51:\tlearn: 0.9875731\ttest: 0.9875515\tbest: 0.9875515 (51)\ttotal: 48.3s\tremaining: 44.6s\n",
      "52:\tlearn: 0.9876770\ttest: 0.9876552\tbest: 0.9876552 (52)\ttotal: 49.3s\tremaining: 43.7s\n",
      "53:\tlearn: 0.9877689\ttest: 0.9877524\tbest: 0.9877524 (53)\ttotal: 50.1s\tremaining: 42.7s\n",
      "54:\tlearn: 0.9878417\ttest: 0.9878284\tbest: 0.9878284 (54)\ttotal: 51.1s\tremaining: 41.8s\n",
      "55:\tlearn: 0.9878787\ttest: 0.9878520\tbest: 0.9878520 (55)\ttotal: 52s\tremaining: 40.9s\n",
      "56:\tlearn: 0.9879874\ttest: 0.9879386\tbest: 0.9879386 (56)\ttotal: 52.9s\tremaining: 39.9s\n",
      "57:\tlearn: 0.9880191\ttest: 0.9879351\tbest: 0.9879386 (56)\ttotal: 53.8s\tremaining: 39s\n",
      "58:\tlearn: 0.9880896\ttest: 0.9880147\tbest: 0.9880147 (58)\ttotal: 54.8s\tremaining: 38s\n",
      "59:\tlearn: 0.9881750\ttest: 0.9880897\tbest: 0.9880897 (59)\ttotal: 55.7s\tremaining: 37.1s\n",
      "60:\tlearn: 0.9882007\ttest: 0.9880806\tbest: 0.9880897 (59)\ttotal: 56.6s\tremaining: 36.2s\n",
      "61:\tlearn: 0.9882461\ttest: 0.9881486\tbest: 0.9881486 (61)\ttotal: 57.5s\tremaining: 35.2s\n",
      "62:\tlearn: 0.9882798\ttest: 0.9881340\tbest: 0.9881486 (61)\ttotal: 58.4s\tremaining: 34.3s\n",
      "63:\tlearn: 0.9883806\ttest: 0.9882669\tbest: 0.9882669 (63)\ttotal: 59.2s\tremaining: 33.3s\n",
      "64:\tlearn: 0.9884220\ttest: 0.9882765\tbest: 0.9882765 (64)\ttotal: 1m\tremaining: 32.4s\n",
      "65:\tlearn: 0.9884609\ttest: 0.9883253\tbest: 0.9883253 (65)\ttotal: 1m 1s\tremaining: 31.5s\n",
      "66:\tlearn: 0.9884445\ttest: 0.9883243\tbest: 0.9883253 (65)\ttotal: 1m 2s\tremaining: 30.6s\n",
      "67:\tlearn: 0.9885824\ttest: 0.9884482\tbest: 0.9884482 (67)\ttotal: 1m 2s\tremaining: 29.6s\n",
      "68:\tlearn: 0.9886168\ttest: 0.9884472\tbest: 0.9884482 (67)\ttotal: 1m 3s\tremaining: 28.7s\n",
      "69:\tlearn: 0.9886912\ttest: 0.9885126\tbest: 0.9885126 (69)\ttotal: 1m 4s\tremaining: 27.8s\n",
      "70:\tlearn: 0.9887309\ttest: 0.9885776\tbest: 0.9885776 (70)\ttotal: 1m 5s\tremaining: 26.8s\n",
      "71:\tlearn: 0.9887929\ttest: 0.9886355\tbest: 0.9886355 (71)\ttotal: 1m 6s\tremaining: 25.9s\n",
      "72:\tlearn: 0.9888870\ttest: 0.9887422\tbest: 0.9887422 (72)\ttotal: 1m 7s\tremaining: 25s\n",
      "73:\tlearn: 0.9889577\ttest: 0.9887870\tbest: 0.9887870 (73)\ttotal: 1m 8s\tremaining: 24.1s\n",
      "74:\tlearn: 0.9889997\ttest: 0.9888389\tbest: 0.9888389 (74)\ttotal: 1m 9s\tremaining: 23.2s\n",
      "75:\tlearn: 0.9890376\ttest: 0.9888812\tbest: 0.9888812 (75)\ttotal: 1m 10s\tremaining: 22.2s\n",
      "76:\tlearn: 0.9890876\ttest: 0.9889340\tbest: 0.9889340 (76)\ttotal: 1m 11s\tremaining: 21.3s\n",
      "77:\tlearn: 0.9891632\ttest: 0.9889869\tbest: 0.9889869 (77)\ttotal: 1m 12s\tremaining: 20.4s\n",
      "78:\tlearn: 0.9891798\ttest: 0.9890000\tbest: 0.9890000 (78)\ttotal: 1m 13s\tremaining: 19.5s\n",
      "79:\tlearn: 0.9892147\ttest: 0.9890226\tbest: 0.9890226 (79)\ttotal: 1m 14s\tremaining: 18.5s\n",
      "80:\tlearn: 0.9892540\ttest: 0.9890458\tbest: 0.9890458 (80)\ttotal: 1m 14s\tremaining: 17.6s\n",
      "81:\tlearn: 0.9892809\ttest: 0.9890921\tbest: 0.9890921 (81)\ttotal: 1m 15s\tremaining: 16.6s\n",
      "82:\tlearn: 0.9893262\ttest: 0.9891329\tbest: 0.9891329 (82)\ttotal: 1m 16s\tremaining: 15.7s\n",
      "83:\tlearn: 0.9893484\ttest: 0.9891530\tbest: 0.9891530 (83)\ttotal: 1m 17s\tremaining: 14.8s\n",
      "84:\tlearn: 0.9893739\ttest: 0.9891697\tbest: 0.9891697 (84)\ttotal: 1m 18s\tremaining: 13.9s\n",
      "85:\tlearn: 0.9894019\ttest: 0.9891913\tbest: 0.9891913 (85)\ttotal: 1m 19s\tremaining: 12.9s\n",
      "86:\tlearn: 0.9894108\ttest: 0.9892029\tbest: 0.9892029 (86)\ttotal: 1m 20s\tremaining: 12s\n",
      "87:\tlearn: 0.9894129\ttest: 0.9892316\tbest: 0.9892316 (87)\ttotal: 1m 21s\tremaining: 11.1s\n",
      "88:\tlearn: 0.9894625\ttest: 0.9892860\tbest: 0.9892860 (88)\ttotal: 1m 22s\tremaining: 10.2s\n",
      "89:\tlearn: 0.9895025\ttest: 0.9893096\tbest: 0.9893096 (89)\ttotal: 1m 23s\tremaining: 9.24s\n",
      "90:\tlearn: 0.9895397\ttest: 0.9893413\tbest: 0.9893413 (90)\ttotal: 1m 23s\tremaining: 8.3s\n",
      "91:\tlearn: 0.9895796\ttest: 0.9893600\tbest: 0.9893600 (91)\ttotal: 1m 24s\tremaining: 7.39s\n",
      "92:\tlearn: 0.9896004\ttest: 0.9893887\tbest: 0.9893887 (92)\ttotal: 1m 25s\tremaining: 6.46s\n",
      "93:\tlearn: 0.9896338\ttest: 0.9894224\tbest: 0.9894224 (93)\ttotal: 1m 26s\tremaining: 5.54s\n",
      "94:\tlearn: 0.9896645\ttest: 0.9894697\tbest: 0.9894697 (94)\ttotal: 1m 27s\tremaining: 4.62s\n",
      "95:\tlearn: 0.9897626\ttest: 0.9895045\tbest: 0.9895045 (95)\ttotal: 1m 28s\tremaining: 3.69s\n",
      "96:\tlearn: 0.9897678\ttest: 0.9895387\tbest: 0.9895387 (96)\ttotal: 1m 29s\tremaining: 2.77s\n",
      "97:\tlearn: 0.9897988\ttest: 0.9895588\tbest: 0.9895588 (97)\ttotal: 1m 30s\tremaining: 1.84s\n",
      "98:\tlearn: 0.9898345\ttest: 0.9895850\tbest: 0.9895850 (98)\ttotal: 1m 31s\tremaining: 922ms\n",
      "99:\tlearn: 0.9898555\ttest: 0.9896037\tbest: 0.9896037 (99)\ttotal: 1m 32s\tremaining: 0us\n",
      "\n",
      "bestTest = 0.9896036505\n",
      "bestIteration = 99\n",
      "\n",
      "train 0.9523596347990005\n",
      "test 0.9518447868000883\n"
     ]
    },
    {
     "data": {
      "text/html": [
       "<div>\n",
       "<style scoped>\n",
       "    .dataframe tbody tr th:only-of-type {\n",
       "        vertical-align: middle;\n",
       "    }\n",
       "\n",
       "    .dataframe tbody tr th {\n",
       "        vertical-align: top;\n",
       "    }\n",
       "\n",
       "    .dataframe thead th {\n",
       "        text-align: right;\n",
       "    }\n",
       "</style>\n",
       "<table border=\"1\" class=\"dataframe\">\n",
       "  <thead>\n",
       "    <tr style=\"text-align: right;\">\n",
       "      <th></th>\n",
       "      <th>precision</th>\n",
       "      <th>recall</th>\n",
       "      <th>f1-score</th>\n",
       "      <th>support</th>\n",
       "    </tr>\n",
       "  </thead>\n",
       "  <tbody>\n",
       "    <tr>\n",
       "      <th>CODE</th>\n",
       "      <td>0.896465</td>\n",
       "      <td>0.997719</td>\n",
       "      <td>0.944385</td>\n",
       "      <td>152097.000000</td>\n",
       "    </tr>\n",
       "    <tr>\n",
       "      <th>OTHER</th>\n",
       "      <td>0.998281</td>\n",
       "      <td>0.919993</td>\n",
       "      <td>0.957540</td>\n",
       "      <td>219057.000000</td>\n",
       "    </tr>\n",
       "    <tr>\n",
       "      <th>accuracy</th>\n",
       "      <td>0.951845</td>\n",
       "      <td>0.951845</td>\n",
       "      <td>0.951845</td>\n",
       "      <td>0.951845</td>\n",
       "    </tr>\n",
       "    <tr>\n",
       "      <th>macro avg</th>\n",
       "      <td>0.947373</td>\n",
       "      <td>0.958856</td>\n",
       "      <td>0.950963</td>\n",
       "      <td>371154.000000</td>\n",
       "    </tr>\n",
       "    <tr>\n",
       "      <th>weighted avg</th>\n",
       "      <td>0.956557</td>\n",
       "      <td>0.951845</td>\n",
       "      <td>0.952149</td>\n",
       "      <td>371154.000000</td>\n",
       "    </tr>\n",
       "  </tbody>\n",
       "</table>\n",
       "</div>"
      ],
      "text/plain": [
       "              precision    recall  f1-score        support\n",
       "CODE           0.896465  0.997719  0.944385  152097.000000\n",
       "OTHER          0.998281  0.919993  0.957540  219057.000000\n",
       "accuracy       0.951845  0.951845  0.951845       0.951845\n",
       "macro avg      0.947373  0.958856  0.950963  371154.000000\n",
       "weighted avg   0.956557  0.951845  0.952149  371154.000000"
      ]
     },
     "metadata": {},
     "output_type": "display_data"
    }
   ],
   "source": [
    "import gc \n",
    "\n",
    "tokenizer = Tokenizer(\n",
    "    lowercasing=True, \n",
    "    separator_type='BySense', \n",
    "    token_types=['Word', 'Number', 'Punctuation', 'SentenceBreak', 'ParagraphBreak', 'Unknown']\n",
    ")\n",
    "\n",
    "train_pool = Pool(\n",
    "    data=train['snippet'],\n",
    "    label=train['language'],\n",
    "    text_features=['snippet'],\n",
    "    feature_names=['snippet']\n",
    ")\n",
    "\n",
    "test_pool = Pool(\n",
    "    data=test['snippet'],\n",
    "    label=test['language'],\n",
    "    text_features=['snippet'],\n",
    "    feature_names=['snippet']\n",
    ")\n",
    "VOCAB_GRID = [\"15000\"]#, \"1500\"]#[\"500\", \"1500\", \"5000\"]\n",
    "DEPTH_GRID = [11]#[7, 9, 11]\n",
    "for DEPTH in DEPTH_GRID:\n",
    "    for VOCAB in VOCAB_GRID:\n",
    "        print(DEPTH, VOCAB)\n",
    "        cat_model = CatBoostClassifier(\n",
    "            iterations=100,\n",
    "            eval_metric='Accuracy',\n",
    "            early_stopping_rounds=20,\n",
    "            depth=DEPTH,\n",
    "            # auto_class_weights='Balanced',\n",
    "            class_weights={'OTHER': 0.9, 'CODE': 0.1}, # know distributin of evalution dataset\n",
    "            used_ram_limit='60gb',\n",
    "            thread_count=-1,\n",
    "            text_processing = {\n",
    "                \"tokenizers\" : [{\n",
    "                    \"tokenizer_id\" : \"Space\",\n",
    "                    \"token_types\" : ['Word', 'Number', 'Punctuation', 'SentenceBreak', 'ParagraphBreak', 'Unknown'],\n",
    "                    \"lowercasing\" : \"true\",\n",
    "                    \"separator_type\" : \"BySense\",\n",
    "                    \"number_process_policy\" : \"Replace\",\n",
    "                    \"number_token\" : \"123\",\n",
    "                }],\n",
    "        \n",
    "                \"dictionaries\" : [{\n",
    "                    \"dictionary_id\" : \"Word\",\n",
    "                    \"occurrence_lower_bound\": \"7\",\n",
    "                    \"max_dictionary_size\": VOCAB,\n",
    "                    \"gram_order\" : \"1\",\n",
    "                    \"dictionary_type\": \"Bpe\"\n",
    "                }],\n",
    "        \n",
    "                \"feature_processing\" : {\n",
    "                    \"default\" : [{\n",
    "                        \"tokenizers_names\" : [\"Space\"],\n",
    "                        \"dictionaries_names\" : [\"Word\"],\n",
    "                        \"feature_calcers\" : [\"BoW\"] #BoW:top_tokens_count=1000\n",
    "                    }],\n",
    "                }\n",
    "            }\n",
    "        )\n",
    "        cat_result = cat_model.fit(\n",
    "            train_pool,\n",
    "            plot=True,\n",
    "            use_best_model=True,\n",
    "            eval_set=test_pool\n",
    "        )\n",
    "        print('train {}'.format(accuracy_score(cat_result.predict(train_pool), train.language)))\n",
    "        print('test {}'.format(accuracy_score(cat_result.predict(test_pool), test.language)))\n",
    "        display(pd.DataFrame(classification_report(cat_result.predict(test_pool), test.language, output_dict=True)).transpose())\n",
    "        cat_result.save_model('../resources/v1_code_vs_other_depth{}_vocab{}.cbm'.format(DEPTH, VOCAB), pool=train_pool, format='cbm')\n",
    "        # del cat_result\n",
    "        # gc.collect()"
   ]
  },
  {
   "cell_type": "markdown",
   "id": "d51e3394-f5b6-4e56-b6f0-18e65efd288b",
   "metadata": {},
   "source": [
    "### Check model quality (95% accuracy on all dataset)"
   ]
  },
  {
   "cell_type": "code",
   "execution_count": 15,
   "id": "679b3bfe-d810-497f-9fab-514b558abe5e",
   "metadata": {},
   "outputs": [],
   "source": [
    "train_pool = Pool(\n",
    "    data=df['snippet'],#[0:100],\n",
    "    text_features=['snippet'],\n",
    "    feature_names=['snippet']\n",
    ")"
   ]
  },
  {
   "cell_type": "code",
   "execution_count": 14,
   "id": "61be356b-e1cc-4e7d-a83a-7305e98692af",
   "metadata": {},
   "outputs": [
    {
     "data": {
      "text/plain": [
       "array(['OTHER', 'CODE'], dtype=object)"
      ]
     },
     "execution_count": 14,
     "metadata": {},
     "output_type": "execute_result"
    }
   ],
   "source": [
    "cat_result = CatBoostClassifier()  \n",
    "cat_result = cat_result.load_model('../resources/v1_code_vs_other_depth11_vocab15000.cbm', format='cbm')\n",
    "cat_result.classes_"
   ]
  },
  {
   "cell_type": "code",
   "execution_count": 17,
   "id": "f5960299-3f51-4ae6-a60d-a4685b98d902",
   "metadata": {},
   "outputs": [
    {
     "name": "stdout",
     "output_type": "stream",
     "text": [
      "train 0.9522565886824361\n"
     ]
    },
    {
     "data": {
      "text/html": [
       "<div>\n",
       "<style scoped>\n",
       "    .dataframe tbody tr th:only-of-type {\n",
       "        vertical-align: middle;\n",
       "    }\n",
       "\n",
       "    .dataframe tbody tr th {\n",
       "        vertical-align: top;\n",
       "    }\n",
       "\n",
       "    .dataframe thead th {\n",
       "        text-align: right;\n",
       "    }\n",
       "</style>\n",
       "<table border=\"1\" class=\"dataframe\">\n",
       "  <thead>\n",
       "    <tr style=\"text-align: right;\">\n",
       "      <th></th>\n",
       "      <th>precision</th>\n",
       "      <th>recall</th>\n",
       "      <th>f1-score</th>\n",
       "      <th>support</th>\n",
       "    </tr>\n",
       "  </thead>\n",
       "  <tbody>\n",
       "    <tr>\n",
       "      <th>CODE</th>\n",
       "      <td>0.896994</td>\n",
       "      <td>0.997895</td>\n",
       "      <td>0.944758</td>\n",
       "      <td>7.586650e+05</td>\n",
       "    </tr>\n",
       "    <tr>\n",
       "      <th>OTHER</th>\n",
       "      <td>0.998419</td>\n",
       "      <td>0.920657</td>\n",
       "      <td>0.957963</td>\n",
       "      <td>1.095727e+06</td>\n",
       "    </tr>\n",
       "    <tr>\n",
       "      <th>accuracy</th>\n",
       "      <td>0.952257</td>\n",
       "      <td>0.952257</td>\n",
       "      <td>0.952257</td>\n",
       "      <td>9.522566e-01</td>\n",
       "    </tr>\n",
       "    <tr>\n",
       "      <th>macro avg</th>\n",
       "      <td>0.947707</td>\n",
       "      <td>0.959276</td>\n",
       "      <td>0.951360</td>\n",
       "      <td>1.854392e+06</td>\n",
       "    </tr>\n",
       "    <tr>\n",
       "      <th>weighted avg</th>\n",
       "      <td>0.956924</td>\n",
       "      <td>0.952257</td>\n",
       "      <td>0.952560</td>\n",
       "      <td>1.854392e+06</td>\n",
       "    </tr>\n",
       "  </tbody>\n",
       "</table>\n",
       "</div>"
      ],
      "text/plain": [
       "              precision    recall  f1-score       support\n",
       "CODE           0.896994  0.997895  0.944758  7.586650e+05\n",
       "OTHER          0.998419  0.920657  0.957963  1.095727e+06\n",
       "accuracy       0.952257  0.952257  0.952257  9.522566e-01\n",
       "macro avg      0.947707  0.959276  0.951360  1.854392e+06\n",
       "weighted avg   0.956924  0.952257  0.952560  1.854392e+06"
      ]
     },
     "metadata": {},
     "output_type": "display_data"
    }
   ],
   "source": [
    "print('train {}'.format(accuracy_score(cat_result.predict(train_pool), df.language)))\n",
    "display(pd.DataFrame(classification_report(cat_result.predict(train_pool), df.language, output_dict=True)).transpose())"
   ]
  },
  {
   "cell_type": "markdown",
   "id": "4dae3adc-0272-4b47-9b68-d32989a31d52",
   "metadata": {},
   "source": [
    "### Check model quality (95% accuracy on dataset provided by telegram)"
   ]
  },
  {
   "cell_type": "code",
   "execution_count": 29,
   "id": "dc9ba698-7b29-4cb5-824a-3415e1323006",
   "metadata": {},
   "outputs": [],
   "source": [
    "from glob import glob\n",
    "\n",
    "tg_snippets = []\n",
    "for filename in glob('../train/*/*/*.txt', recursive=True):\n",
    "    with open(filename) as file:\n",
    "        snippet = file.read()\n",
    "        if \"OTHER\" in filename:\n",
    "            language = 'OTHER'\n",
    "        else:\n",
    "            language = 'CODE'\n",
    "        tg_snippets.append([snippet, language])"
   ]
  },
  {
   "cell_type": "code",
   "execution_count": 35,
   "id": "203b3d21-aada-41de-a0d0-261ac52e8b6b",
   "metadata": {},
   "outputs": [],
   "source": [
    "df_tg = pd.DataFrame(tg_snippets, columns=['snippet', 'language'])\n",
    "tg_pool = Pool(\n",
    "    data=df_tg['snippet'],#[0:100],\n",
    "    text_features=['snippet'],\n",
    "    feature_names=['snippet']\n",
    ")"
   ]
  },
  {
   "cell_type": "code",
   "execution_count": 36,
   "id": "e2e517f5-76ac-4929-b48f-e17596313477",
   "metadata": {},
   "outputs": [
    {
     "name": "stdout",
     "output_type": "stream",
     "text": [
      "train 0.9550704037667126\n"
     ]
    },
    {
     "data": {
      "text/html": [
       "<div>\n",
       "<style scoped>\n",
       "    .dataframe tbody tr th:only-of-type {\n",
       "        vertical-align: middle;\n",
       "    }\n",
       "\n",
       "    .dataframe tbody tr th {\n",
       "        vertical-align: top;\n",
       "    }\n",
       "\n",
       "    .dataframe thead th {\n",
       "        text-align: right;\n",
       "    }\n",
       "</style>\n",
       "<table border=\"1\" class=\"dataframe\">\n",
       "  <thead>\n",
       "    <tr style=\"text-align: right;\">\n",
       "      <th></th>\n",
       "      <th>precision</th>\n",
       "      <th>recall</th>\n",
       "      <th>f1-score</th>\n",
       "      <th>support</th>\n",
       "    </tr>\n",
       "  </thead>\n",
       "  <tbody>\n",
       "    <tr>\n",
       "      <th>CODE</th>\n",
       "      <td>0.879564</td>\n",
       "      <td>0.691449</td>\n",
       "      <td>0.774244</td>\n",
       "      <td>5017.00000</td>\n",
       "    </tr>\n",
       "    <tr>\n",
       "      <th>OTHER</th>\n",
       "      <td>0.962319</td>\n",
       "      <td>0.988128</td>\n",
       "      <td>0.975053</td>\n",
       "      <td>40009.00000</td>\n",
       "    </tr>\n",
       "    <tr>\n",
       "      <th>accuracy</th>\n",
       "      <td>0.955070</td>\n",
       "      <td>0.955070</td>\n",
       "      <td>0.955070</td>\n",
       "      <td>0.95507</td>\n",
       "    </tr>\n",
       "    <tr>\n",
       "      <th>macro avg</th>\n",
       "      <td>0.920942</td>\n",
       "      <td>0.839788</td>\n",
       "      <td>0.874648</td>\n",
       "      <td>45026.00000</td>\n",
       "    </tr>\n",
       "    <tr>\n",
       "      <th>weighted avg</th>\n",
       "      <td>0.953098</td>\n",
       "      <td>0.955070</td>\n",
       "      <td>0.952678</td>\n",
       "      <td>45026.00000</td>\n",
       "    </tr>\n",
       "  </tbody>\n",
       "</table>\n",
       "</div>"
      ],
      "text/plain": [
       "              precision    recall  f1-score      support\n",
       "CODE           0.879564  0.691449  0.774244   5017.00000\n",
       "OTHER          0.962319  0.988128  0.975053  40009.00000\n",
       "accuracy       0.955070  0.955070  0.955070      0.95507\n",
       "macro avg      0.920942  0.839788  0.874648  45026.00000\n",
       "weighted avg   0.953098  0.955070  0.952678  45026.00000"
      ]
     },
     "metadata": {},
     "output_type": "display_data"
    }
   ],
   "source": [
    "print('train {}'.format(accuracy_score(cat_result.predict(tg_pool), df_tg.language)))\n",
    "display(pd.DataFrame(classification_report(cat_result.predict(tg_pool), df_tg.language, output_dict=True)).transpose())"
   ]
  }
 ],
 "metadata": {
  "kernelspec": {
   "display_name": "Python 3 (ipykernel)",
   "language": "python",
   "name": "python3"
  },
  "language_info": {
   "codemirror_mode": {
    "name": "ipython",
    "version": 3
   },
   "file_extension": ".py",
   "mimetype": "text/x-python",
   "name": "python",
   "nbconvert_exporter": "python",
   "pygments_lexer": "ipython3",
   "version": "3.11.5"
  }
 },
 "nbformat": 4,
 "nbformat_minor": 5
}
